{
  "nbformat": 4,
  "nbformat_minor": 0,
  "metadata": {
    "colab": {
      "provenance": [],
      "toc_visible": true
    },
    "kernelspec": {
      "name": "python3",
      "display_name": "Python 3"
    },
    "language_info": {
      "name": "python"
    }
  },
  "cells": [
    {
      "cell_type": "markdown",
      "source": [
        "Conduct an exploratory data analysis (EDA) on the given E-commerce Customer Behavior. Focus on customer behavior, purchase trends, and satisfaction levels using Python libraries: Pandas, Numpy, Matplotlib, and Seaborn."
      ],
      "metadata": {
        "id": "bssKlApPLshq"
      }
    },
    {
      "cell_type": "markdown",
      "source": [
        "# **EDA of E-commerce Customer Behavior**"
      ],
      "metadata": {
        "id": "sGi7IOwKLi6x"
      }
    },
    {
      "cell_type": "markdown",
      "source": [
        "## Dataset Overview:\n",
        "\n",
        "- **CustomerID:** Unique identifier for each customer.\n",
        "- **Gender:** Gender of the customer.\n",
        "- **Age:** Age of the customer.\n",
        "- **City:** City where the customer resides.\n",
        "- **Membership Type:** Type of customer membership (Gold, Silver, Bronze).\n",
        "- **Total Spend:** Total amount spent by the customer.\n",
        "- **Items Purchased:** Number of items purchased.\n",
        "- **Average Rating:** Average rating given by the customer.\n",
        "- **Discount Applied:** Whether a discount was applied (True/False).\n",
        "- **Days Since Last Purchase:** Number of days since the customer’s last purchase.\n",
        "- **Satisfaction Level:** Customer's satisfaction level (Satisfied, Neutral, Unsatisfied)."
      ],
      "metadata": {
        "id": "4vzKNF3xL0wn"
      }
    },
    {
      "cell_type": "markdown",
      "source": [
        "## **Task**"
      ],
      "metadata": {
        "id": "0wpzanktMR1v"
      }
    },
    {
      "cell_type": "markdown",
      "source": [
        "### **Data Exploration**\n",
        "\n",
        "Explore the dataset to get a general understanding of the data.\n",
        "\n",
        "- Load the dataset using Pandas.\n",
        "- Print the first 10 rows of the dataset.\n",
        "- Display Statistical Summary. (show the summary for object data columns separately)\n",
        "- Get the information, data types of all columns and the shape of the dataset (number of rows and columns).\n",
        "- Display only Data types\n",
        "\n",
        "(5 points)"
      ],
      "metadata": {
        "id": "hQygnkYFMObs"
      }
    },
    {
      "cell_type": "code",
      "source": [
        "from google.colab import files\n",
        "uploaded = files.upload()  # This will allow you to browse your local system to upload a file\n"
      ],
      "metadata": {
        "id": "aCIoh8wymsAs",
        "outputId": "312c9470-f58b-40ee-8641-f2bd1a3cf5d9",
        "colab": {
          "base_uri": "https://localhost:8080/",
          "height": 73
        }
      },
      "execution_count": null,
      "outputs": [
        {
          "output_type": "display_data",
          "data": {
            "text/plain": [
              "<IPython.core.display.HTML object>"
            ],
            "text/html": [
              "\n",
              "     <input type=\"file\" id=\"files-a94a2cb8-d849-4e59-a72d-2c0890f342d8\" name=\"files[]\" multiple disabled\n",
              "        style=\"border:none\" />\n",
              "     <output id=\"result-a94a2cb8-d849-4e59-a72d-2c0890f342d8\">\n",
              "      Upload widget is only available when the cell has been executed in the\n",
              "      current browser session. Please rerun this cell to enable.\n",
              "      </output>\n",
              "      <script>// Copyright 2017 Google LLC\n",
              "//\n",
              "// Licensed under the Apache License, Version 2.0 (the \"License\");\n",
              "// you may not use this file except in compliance with the License.\n",
              "// You may obtain a copy of the License at\n",
              "//\n",
              "//      http://www.apache.org/licenses/LICENSE-2.0\n",
              "//\n",
              "// Unless required by applicable law or agreed to in writing, software\n",
              "// distributed under the License is distributed on an \"AS IS\" BASIS,\n",
              "// WITHOUT WARRANTIES OR CONDITIONS OF ANY KIND, either express or implied.\n",
              "// See the License for the specific language governing permissions and\n",
              "// limitations under the License.\n",
              "\n",
              "/**\n",
              " * @fileoverview Helpers for google.colab Python module.\n",
              " */\n",
              "(function(scope) {\n",
              "function span(text, styleAttributes = {}) {\n",
              "  const element = document.createElement('span');\n",
              "  element.textContent = text;\n",
              "  for (const key of Object.keys(styleAttributes)) {\n",
              "    element.style[key] = styleAttributes[key];\n",
              "  }\n",
              "  return element;\n",
              "}\n",
              "\n",
              "// Max number of bytes which will be uploaded at a time.\n",
              "const MAX_PAYLOAD_SIZE = 100 * 1024;\n",
              "\n",
              "function _uploadFiles(inputId, outputId) {\n",
              "  const steps = uploadFilesStep(inputId, outputId);\n",
              "  const outputElement = document.getElementById(outputId);\n",
              "  // Cache steps on the outputElement to make it available for the next call\n",
              "  // to uploadFilesContinue from Python.\n",
              "  outputElement.steps = steps;\n",
              "\n",
              "  return _uploadFilesContinue(outputId);\n",
              "}\n",
              "\n",
              "// This is roughly an async generator (not supported in the browser yet),\n",
              "// where there are multiple asynchronous steps and the Python side is going\n",
              "// to poll for completion of each step.\n",
              "// This uses a Promise to block the python side on completion of each step,\n",
              "// then passes the result of the previous step as the input to the next step.\n",
              "function _uploadFilesContinue(outputId) {\n",
              "  const outputElement = document.getElementById(outputId);\n",
              "  const steps = outputElement.steps;\n",
              "\n",
              "  const next = steps.next(outputElement.lastPromiseValue);\n",
              "  return Promise.resolve(next.value.promise).then((value) => {\n",
              "    // Cache the last promise value to make it available to the next\n",
              "    // step of the generator.\n",
              "    outputElement.lastPromiseValue = value;\n",
              "    return next.value.response;\n",
              "  });\n",
              "}\n",
              "\n",
              "/**\n",
              " * Generator function which is called between each async step of the upload\n",
              " * process.\n",
              " * @param {string} inputId Element ID of the input file picker element.\n",
              " * @param {string} outputId Element ID of the output display.\n",
              " * @return {!Iterable<!Object>} Iterable of next steps.\n",
              " */\n",
              "function* uploadFilesStep(inputId, outputId) {\n",
              "  const inputElement = document.getElementById(inputId);\n",
              "  inputElement.disabled = false;\n",
              "\n",
              "  const outputElement = document.getElementById(outputId);\n",
              "  outputElement.innerHTML = '';\n",
              "\n",
              "  const pickedPromise = new Promise((resolve) => {\n",
              "    inputElement.addEventListener('change', (e) => {\n",
              "      resolve(e.target.files);\n",
              "    });\n",
              "  });\n",
              "\n",
              "  const cancel = document.createElement('button');\n",
              "  inputElement.parentElement.appendChild(cancel);\n",
              "  cancel.textContent = 'Cancel upload';\n",
              "  const cancelPromise = new Promise((resolve) => {\n",
              "    cancel.onclick = () => {\n",
              "      resolve(null);\n",
              "    };\n",
              "  });\n",
              "\n",
              "  // Wait for the user to pick the files.\n",
              "  const files = yield {\n",
              "    promise: Promise.race([pickedPromise, cancelPromise]),\n",
              "    response: {\n",
              "      action: 'starting',\n",
              "    }\n",
              "  };\n",
              "\n",
              "  cancel.remove();\n",
              "\n",
              "  // Disable the input element since further picks are not allowed.\n",
              "  inputElement.disabled = true;\n",
              "\n",
              "  if (!files) {\n",
              "    return {\n",
              "      response: {\n",
              "        action: 'complete',\n",
              "      }\n",
              "    };\n",
              "  }\n",
              "\n",
              "  for (const file of files) {\n",
              "    const li = document.createElement('li');\n",
              "    li.append(span(file.name, {fontWeight: 'bold'}));\n",
              "    li.append(span(\n",
              "        `(${file.type || 'n/a'}) - ${file.size} bytes, ` +\n",
              "        `last modified: ${\n",
              "            file.lastModifiedDate ? file.lastModifiedDate.toLocaleDateString() :\n",
              "                                    'n/a'} - `));\n",
              "    const percent = span('0% done');\n",
              "    li.appendChild(percent);\n",
              "\n",
              "    outputElement.appendChild(li);\n",
              "\n",
              "    const fileDataPromise = new Promise((resolve) => {\n",
              "      const reader = new FileReader();\n",
              "      reader.onload = (e) => {\n",
              "        resolve(e.target.result);\n",
              "      };\n",
              "      reader.readAsArrayBuffer(file);\n",
              "    });\n",
              "    // Wait for the data to be ready.\n",
              "    let fileData = yield {\n",
              "      promise: fileDataPromise,\n",
              "      response: {\n",
              "        action: 'continue',\n",
              "      }\n",
              "    };\n",
              "\n",
              "    // Use a chunked sending to avoid message size limits. See b/62115660.\n",
              "    let position = 0;\n",
              "    do {\n",
              "      const length = Math.min(fileData.byteLength - position, MAX_PAYLOAD_SIZE);\n",
              "      const chunk = new Uint8Array(fileData, position, length);\n",
              "      position += length;\n",
              "\n",
              "      const base64 = btoa(String.fromCharCode.apply(null, chunk));\n",
              "      yield {\n",
              "        response: {\n",
              "          action: 'append',\n",
              "          file: file.name,\n",
              "          data: base64,\n",
              "        },\n",
              "      };\n",
              "\n",
              "      let percentDone = fileData.byteLength === 0 ?\n",
              "          100 :\n",
              "          Math.round((position / fileData.byteLength) * 100);\n",
              "      percent.textContent = `${percentDone}% done`;\n",
              "\n",
              "    } while (position < fileData.byteLength);\n",
              "  }\n",
              "\n",
              "  // All done.\n",
              "  yield {\n",
              "    response: {\n",
              "      action: 'complete',\n",
              "    }\n",
              "  };\n",
              "}\n",
              "\n",
              "scope.google = scope.google || {};\n",
              "scope.google.colab = scope.google.colab || {};\n",
              "scope.google.colab._files = {\n",
              "  _uploadFiles,\n",
              "  _uploadFilesContinue,\n",
              "};\n",
              "})(self);\n",
              "</script> "
            ]
          },
          "metadata": {}
        },
        {
          "output_type": "stream",
          "name": "stdout",
          "text": [
            "Saving E-commerce Customer Behavior.csv to E-commerce Customer Behavior.csv\n"
          ]
        }
      ]
    },
    {
      "cell_type": "code",
      "source": [
        "import pandas as pd\n",
        "\n",
        "# Use the exact file name that was uploaded\n",
        "df = pd.read_csv('E-commerce Customer Behavior.csv')\n",
        "\n",
        "# Display the first few rows of the dataframe\n",
        "df.head()"
      ],
      "metadata": {
        "id": "UUsGnJwmmr4G",
        "outputId": "2fde3b3e-4636-426e-f436-8ad1eab55480",
        "colab": {
          "base_uri": "https://localhost:8080/",
          "height": 206
        }
      },
      "execution_count": null,
      "outputs": [
        {
          "output_type": "execute_result",
          "data": {
            "text/plain": [
              "   Customer ID  Gender  Age           City Membership Type  Total Spend  \\\n",
              "0          101  Female   29       New York            Gold      1120.20   \n",
              "1          102    Male   34    Los Angeles          Silver       780.50   \n",
              "2          103  Female   43        Chicago          Bronze       510.75   \n",
              "3          104    Male   30  San Francisco            Gold      1480.30   \n",
              "4          105    Male   27          Miami          Silver       720.40   \n",
              "\n",
              "   Items Purchased  Average Rating  Discount Applied  \\\n",
              "0               14             4.6              True   \n",
              "1               11             4.1             False   \n",
              "2                9             3.4              True   \n",
              "3               19             4.7             False   \n",
              "4               13             4.0              True   \n",
              "\n",
              "   Days Since Last Purchase Satisfaction Level  \n",
              "0                        25          Satisfied  \n",
              "1                        18            Neutral  \n",
              "2                        42        Unsatisfied  \n",
              "3                        12          Satisfied  \n",
              "4                        55        Unsatisfied  "
            ],
            "text/html": [
              "\n",
              "  <div id=\"df-4d2f60df-b0e6-4d06-85f3-f4823521bd00\" class=\"colab-df-container\">\n",
              "    <div>\n",
              "<style scoped>\n",
              "    .dataframe tbody tr th:only-of-type {\n",
              "        vertical-align: middle;\n",
              "    }\n",
              "\n",
              "    .dataframe tbody tr th {\n",
              "        vertical-align: top;\n",
              "    }\n",
              "\n",
              "    .dataframe thead th {\n",
              "        text-align: right;\n",
              "    }\n",
              "</style>\n",
              "<table border=\"1\" class=\"dataframe\">\n",
              "  <thead>\n",
              "    <tr style=\"text-align: right;\">\n",
              "      <th></th>\n",
              "      <th>Customer ID</th>\n",
              "      <th>Gender</th>\n",
              "      <th>Age</th>\n",
              "      <th>City</th>\n",
              "      <th>Membership Type</th>\n",
              "      <th>Total Spend</th>\n",
              "      <th>Items Purchased</th>\n",
              "      <th>Average Rating</th>\n",
              "      <th>Discount Applied</th>\n",
              "      <th>Days Since Last Purchase</th>\n",
              "      <th>Satisfaction Level</th>\n",
              "    </tr>\n",
              "  </thead>\n",
              "  <tbody>\n",
              "    <tr>\n",
              "      <th>0</th>\n",
              "      <td>101</td>\n",
              "      <td>Female</td>\n",
              "      <td>29</td>\n",
              "      <td>New York</td>\n",
              "      <td>Gold</td>\n",
              "      <td>1120.20</td>\n",
              "      <td>14</td>\n",
              "      <td>4.6</td>\n",
              "      <td>True</td>\n",
              "      <td>25</td>\n",
              "      <td>Satisfied</td>\n",
              "    </tr>\n",
              "    <tr>\n",
              "      <th>1</th>\n",
              "      <td>102</td>\n",
              "      <td>Male</td>\n",
              "      <td>34</td>\n",
              "      <td>Los Angeles</td>\n",
              "      <td>Silver</td>\n",
              "      <td>780.50</td>\n",
              "      <td>11</td>\n",
              "      <td>4.1</td>\n",
              "      <td>False</td>\n",
              "      <td>18</td>\n",
              "      <td>Neutral</td>\n",
              "    </tr>\n",
              "    <tr>\n",
              "      <th>2</th>\n",
              "      <td>103</td>\n",
              "      <td>Female</td>\n",
              "      <td>43</td>\n",
              "      <td>Chicago</td>\n",
              "      <td>Bronze</td>\n",
              "      <td>510.75</td>\n",
              "      <td>9</td>\n",
              "      <td>3.4</td>\n",
              "      <td>True</td>\n",
              "      <td>42</td>\n",
              "      <td>Unsatisfied</td>\n",
              "    </tr>\n",
              "    <tr>\n",
              "      <th>3</th>\n",
              "      <td>104</td>\n",
              "      <td>Male</td>\n",
              "      <td>30</td>\n",
              "      <td>San Francisco</td>\n",
              "      <td>Gold</td>\n",
              "      <td>1480.30</td>\n",
              "      <td>19</td>\n",
              "      <td>4.7</td>\n",
              "      <td>False</td>\n",
              "      <td>12</td>\n",
              "      <td>Satisfied</td>\n",
              "    </tr>\n",
              "    <tr>\n",
              "      <th>4</th>\n",
              "      <td>105</td>\n",
              "      <td>Male</td>\n",
              "      <td>27</td>\n",
              "      <td>Miami</td>\n",
              "      <td>Silver</td>\n",
              "      <td>720.40</td>\n",
              "      <td>13</td>\n",
              "      <td>4.0</td>\n",
              "      <td>True</td>\n",
              "      <td>55</td>\n",
              "      <td>Unsatisfied</td>\n",
              "    </tr>\n",
              "  </tbody>\n",
              "</table>\n",
              "</div>\n",
              "    <div class=\"colab-df-buttons\">\n",
              "\n",
              "  <div class=\"colab-df-container\">\n",
              "    <button class=\"colab-df-convert\" onclick=\"convertToInteractive('df-4d2f60df-b0e6-4d06-85f3-f4823521bd00')\"\n",
              "            title=\"Convert this dataframe to an interactive table.\"\n",
              "            style=\"display:none;\">\n",
              "\n",
              "  <svg xmlns=\"http://www.w3.org/2000/svg\" height=\"24px\" viewBox=\"0 -960 960 960\">\n",
              "    <path d=\"M120-120v-720h720v720H120Zm60-500h600v-160H180v160Zm220 220h160v-160H400v160Zm0 220h160v-160H400v160ZM180-400h160v-160H180v160Zm440 0h160v-160H620v160ZM180-180h160v-160H180v160Zm440 0h160v-160H620v160Z\"/>\n",
              "  </svg>\n",
              "    </button>\n",
              "\n",
              "  <style>\n",
              "    .colab-df-container {\n",
              "      display:flex;\n",
              "      gap: 12px;\n",
              "    }\n",
              "\n",
              "    .colab-df-convert {\n",
              "      background-color: #E8F0FE;\n",
              "      border: none;\n",
              "      border-radius: 50%;\n",
              "      cursor: pointer;\n",
              "      display: none;\n",
              "      fill: #1967D2;\n",
              "      height: 32px;\n",
              "      padding: 0 0 0 0;\n",
              "      width: 32px;\n",
              "    }\n",
              "\n",
              "    .colab-df-convert:hover {\n",
              "      background-color: #E2EBFA;\n",
              "      box-shadow: 0px 1px 2px rgba(60, 64, 67, 0.3), 0px 1px 3px 1px rgba(60, 64, 67, 0.15);\n",
              "      fill: #174EA6;\n",
              "    }\n",
              "\n",
              "    .colab-df-buttons div {\n",
              "      margin-bottom: 4px;\n",
              "    }\n",
              "\n",
              "    [theme=dark] .colab-df-convert {\n",
              "      background-color: #3B4455;\n",
              "      fill: #D2E3FC;\n",
              "    }\n",
              "\n",
              "    [theme=dark] .colab-df-convert:hover {\n",
              "      background-color: #434B5C;\n",
              "      box-shadow: 0px 1px 3px 1px rgba(0, 0, 0, 0.15);\n",
              "      filter: drop-shadow(0px 1px 2px rgba(0, 0, 0, 0.3));\n",
              "      fill: #FFFFFF;\n",
              "    }\n",
              "  </style>\n",
              "\n",
              "    <script>\n",
              "      const buttonEl =\n",
              "        document.querySelector('#df-4d2f60df-b0e6-4d06-85f3-f4823521bd00 button.colab-df-convert');\n",
              "      buttonEl.style.display =\n",
              "        google.colab.kernel.accessAllowed ? 'block' : 'none';\n",
              "\n",
              "      async function convertToInteractive(key) {\n",
              "        const element = document.querySelector('#df-4d2f60df-b0e6-4d06-85f3-f4823521bd00');\n",
              "        const dataTable =\n",
              "          await google.colab.kernel.invokeFunction('convertToInteractive',\n",
              "                                                    [key], {});\n",
              "        if (!dataTable) return;\n",
              "\n",
              "        const docLinkHtml = 'Like what you see? Visit the ' +\n",
              "          '<a target=\"_blank\" href=https://colab.research.google.com/notebooks/data_table.ipynb>data table notebook</a>'\n",
              "          + ' to learn more about interactive tables.';\n",
              "        element.innerHTML = '';\n",
              "        dataTable['output_type'] = 'display_data';\n",
              "        await google.colab.output.renderOutput(dataTable, element);\n",
              "        const docLink = document.createElement('div');\n",
              "        docLink.innerHTML = docLinkHtml;\n",
              "        element.appendChild(docLink);\n",
              "      }\n",
              "    </script>\n",
              "  </div>\n",
              "\n",
              "\n",
              "<div id=\"df-e7dd6d4b-5d30-44a2-98fa-496249de36b6\">\n",
              "  <button class=\"colab-df-quickchart\" onclick=\"quickchart('df-e7dd6d4b-5d30-44a2-98fa-496249de36b6')\"\n",
              "            title=\"Suggest charts\"\n",
              "            style=\"display:none;\">\n",
              "\n",
              "<svg xmlns=\"http://www.w3.org/2000/svg\" height=\"24px\"viewBox=\"0 0 24 24\"\n",
              "     width=\"24px\">\n",
              "    <g>\n",
              "        <path d=\"M19 3H5c-1.1 0-2 .9-2 2v14c0 1.1.9 2 2 2h14c1.1 0 2-.9 2-2V5c0-1.1-.9-2-2-2zM9 17H7v-7h2v7zm4 0h-2V7h2v10zm4 0h-2v-4h2v4z\"/>\n",
              "    </g>\n",
              "</svg>\n",
              "  </button>\n",
              "\n",
              "<style>\n",
              "  .colab-df-quickchart {\n",
              "      --bg-color: #E8F0FE;\n",
              "      --fill-color: #1967D2;\n",
              "      --hover-bg-color: #E2EBFA;\n",
              "      --hover-fill-color: #174EA6;\n",
              "      --disabled-fill-color: #AAA;\n",
              "      --disabled-bg-color: #DDD;\n",
              "  }\n",
              "\n",
              "  [theme=dark] .colab-df-quickchart {\n",
              "      --bg-color: #3B4455;\n",
              "      --fill-color: #D2E3FC;\n",
              "      --hover-bg-color: #434B5C;\n",
              "      --hover-fill-color: #FFFFFF;\n",
              "      --disabled-bg-color: #3B4455;\n",
              "      --disabled-fill-color: #666;\n",
              "  }\n",
              "\n",
              "  .colab-df-quickchart {\n",
              "    background-color: var(--bg-color);\n",
              "    border: none;\n",
              "    border-radius: 50%;\n",
              "    cursor: pointer;\n",
              "    display: none;\n",
              "    fill: var(--fill-color);\n",
              "    height: 32px;\n",
              "    padding: 0;\n",
              "    width: 32px;\n",
              "  }\n",
              "\n",
              "  .colab-df-quickchart:hover {\n",
              "    background-color: var(--hover-bg-color);\n",
              "    box-shadow: 0 1px 2px rgba(60, 64, 67, 0.3), 0 1px 3px 1px rgba(60, 64, 67, 0.15);\n",
              "    fill: var(--button-hover-fill-color);\n",
              "  }\n",
              "\n",
              "  .colab-df-quickchart-complete:disabled,\n",
              "  .colab-df-quickchart-complete:disabled:hover {\n",
              "    background-color: var(--disabled-bg-color);\n",
              "    fill: var(--disabled-fill-color);\n",
              "    box-shadow: none;\n",
              "  }\n",
              "\n",
              "  .colab-df-spinner {\n",
              "    border: 2px solid var(--fill-color);\n",
              "    border-color: transparent;\n",
              "    border-bottom-color: var(--fill-color);\n",
              "    animation:\n",
              "      spin 1s steps(1) infinite;\n",
              "  }\n",
              "\n",
              "  @keyframes spin {\n",
              "    0% {\n",
              "      border-color: transparent;\n",
              "      border-bottom-color: var(--fill-color);\n",
              "      border-left-color: var(--fill-color);\n",
              "    }\n",
              "    20% {\n",
              "      border-color: transparent;\n",
              "      border-left-color: var(--fill-color);\n",
              "      border-top-color: var(--fill-color);\n",
              "    }\n",
              "    30% {\n",
              "      border-color: transparent;\n",
              "      border-left-color: var(--fill-color);\n",
              "      border-top-color: var(--fill-color);\n",
              "      border-right-color: var(--fill-color);\n",
              "    }\n",
              "    40% {\n",
              "      border-color: transparent;\n",
              "      border-right-color: var(--fill-color);\n",
              "      border-top-color: var(--fill-color);\n",
              "    }\n",
              "    60% {\n",
              "      border-color: transparent;\n",
              "      border-right-color: var(--fill-color);\n",
              "    }\n",
              "    80% {\n",
              "      border-color: transparent;\n",
              "      border-right-color: var(--fill-color);\n",
              "      border-bottom-color: var(--fill-color);\n",
              "    }\n",
              "    90% {\n",
              "      border-color: transparent;\n",
              "      border-bottom-color: var(--fill-color);\n",
              "    }\n",
              "  }\n",
              "</style>\n",
              "\n",
              "  <script>\n",
              "    async function quickchart(key) {\n",
              "      const quickchartButtonEl =\n",
              "        document.querySelector('#' + key + ' button');\n",
              "      quickchartButtonEl.disabled = true;  // To prevent multiple clicks.\n",
              "      quickchartButtonEl.classList.add('colab-df-spinner');\n",
              "      try {\n",
              "        const charts = await google.colab.kernel.invokeFunction(\n",
              "            'suggestCharts', [key], {});\n",
              "      } catch (error) {\n",
              "        console.error('Error during call to suggestCharts:', error);\n",
              "      }\n",
              "      quickchartButtonEl.classList.remove('colab-df-spinner');\n",
              "      quickchartButtonEl.classList.add('colab-df-quickchart-complete');\n",
              "    }\n",
              "    (() => {\n",
              "      let quickchartButtonEl =\n",
              "        document.querySelector('#df-e7dd6d4b-5d30-44a2-98fa-496249de36b6 button');\n",
              "      quickchartButtonEl.style.display =\n",
              "        google.colab.kernel.accessAllowed ? 'block' : 'none';\n",
              "    })();\n",
              "  </script>\n",
              "</div>\n",
              "\n",
              "    </div>\n",
              "  </div>\n"
            ],
            "application/vnd.google.colaboratory.intrinsic+json": {
              "type": "dataframe",
              "variable_name": "df",
              "summary": "{\n  \"name\": \"df\",\n  \"rows\": 350,\n  \"fields\": [\n    {\n      \"column\": \"Customer ID\",\n      \"properties\": {\n        \"dtype\": \"number\",\n        \"std\": 101,\n        \"min\": 101,\n        \"max\": 450,\n        \"num_unique_values\": 350,\n        \"samples\": [\n          258,\n          442,\n          416\n        ],\n        \"semantic_type\": \"\",\n        \"description\": \"\"\n      }\n    },\n    {\n      \"column\": \"Gender\",\n      \"properties\": {\n        \"dtype\": \"category\",\n        \"num_unique_values\": 2,\n        \"samples\": [\n          \"Male\",\n          \"Female\"\n        ],\n        \"semantic_type\": \"\",\n        \"description\": \"\"\n      }\n    },\n    {\n      \"column\": \"Age\",\n      \"properties\": {\n        \"dtype\": \"number\",\n        \"std\": 4,\n        \"min\": 26,\n        \"max\": 43,\n        \"num_unique_values\": 16,\n        \"samples\": [\n          29,\n          34\n        ],\n        \"semantic_type\": \"\",\n        \"description\": \"\"\n      }\n    },\n    {\n      \"column\": \"City\",\n      \"properties\": {\n        \"dtype\": \"category\",\n        \"num_unique_values\": 6,\n        \"samples\": [\n          \"New York\",\n          \"Los Angeles\"\n        ],\n        \"semantic_type\": \"\",\n        \"description\": \"\"\n      }\n    },\n    {\n      \"column\": \"Membership Type\",\n      \"properties\": {\n        \"dtype\": \"category\",\n        \"num_unique_values\": 3,\n        \"samples\": [\n          \"Gold\",\n          \"Silver\"\n        ],\n        \"semantic_type\": \"\",\n        \"description\": \"\"\n      }\n    },\n    {\n      \"column\": \"Total Spend\",\n      \"properties\": {\n        \"dtype\": \"number\",\n        \"std\": 362.05869534746563,\n        \"min\": 410.8,\n        \"max\": 1520.1,\n        \"num_unique_values\": 76,\n        \"samples\": [\n          720.4,\n          440.9\n        ],\n        \"semantic_type\": \"\",\n        \"description\": \"\"\n      }\n    },\n    {\n      \"column\": \"Items Purchased\",\n      \"properties\": {\n        \"dtype\": \"number\",\n        \"std\": 4,\n        \"min\": 7,\n        \"max\": 21,\n        \"num_unique_values\": 15,\n        \"samples\": [\n          21,\n          16\n        ],\n        \"semantic_type\": \"\",\n        \"description\": \"\"\n      }\n    },\n    {\n      \"column\": \"Average Rating\",\n      \"properties\": {\n        \"dtype\": \"number\",\n        \"std\": 0.580538587146968,\n        \"min\": 3.0,\n        \"max\": 4.9,\n        \"num_unique_values\": 20,\n        \"samples\": [\n          4.6,\n          3.0\n        ],\n        \"semantic_type\": \"\",\n        \"description\": \"\"\n      }\n    },\n    {\n      \"column\": \"Discount Applied\",\n      \"properties\": {\n        \"dtype\": \"boolean\",\n        \"num_unique_values\": 2,\n        \"samples\": [\n          false,\n          true\n        ],\n        \"semantic_type\": \"\",\n        \"description\": \"\"\n      }\n    },\n    {\n      \"column\": \"Days Since Last Purchase\",\n      \"properties\": {\n        \"dtype\": \"number\",\n        \"std\": 13,\n        \"min\": 9,\n        \"max\": 63,\n        \"num_unique_values\": 54,\n        \"samples\": [\n          41,\n          60\n        ],\n        \"semantic_type\": \"\",\n        \"description\": \"\"\n      }\n    },\n    {\n      \"column\": \"Satisfaction Level\",\n      \"properties\": {\n        \"dtype\": \"category\",\n        \"num_unique_values\": 3,\n        \"samples\": [\n          \"Satisfied\",\n          \"Neutral\"\n        ],\n        \"semantic_type\": \"\",\n        \"description\": \"\"\n      }\n    }\n  ]\n}"
            }
          },
          "metadata": {},
          "execution_count": 3
        }
      ]
    },
    {
      "cell_type": "code",
      "source": [
        "# Display the first 10 rows of the dataset\n",
        "first_10_rows = df.head(10)"
      ],
      "metadata": {
        "id": "WKEzGzzZmuGX"
      },
      "execution_count": null,
      "outputs": []
    },
    {
      "cell_type": "code",
      "source": [
        "# Display statistical summary for object data columns separately\n",
        "summary_all = df.describe(include='all')\n",
        "summary_objects = df.describe(include=[object])\n"
      ],
      "metadata": {
        "id": "exqpF0fZmtyf"
      },
      "execution_count": null,
      "outputs": []
    },
    {
      "cell_type": "code",
      "source": [
        "# Get the information and data types\n",
        "info = df.info()\n",
        "\n",
        "# Get the shape of the dataset (number of rows and columns)\n",
        "shape = df.shape"
      ],
      "metadata": {
        "id": "cWu5ri4NmtoL",
        "outputId": "7778019b-b573-4b03-b6c8-8ac7cae72872",
        "colab": {
          "base_uri": "https://localhost:8080/"
        }
      },
      "execution_count": null,
      "outputs": [
        {
          "output_type": "stream",
          "name": "stdout",
          "text": [
            "<class 'pandas.core.frame.DataFrame'>\n",
            "RangeIndex: 350 entries, 0 to 349\n",
            "Data columns (total 11 columns):\n",
            " #   Column                    Non-Null Count  Dtype  \n",
            "---  ------                    --------------  -----  \n",
            " 0   Customer ID               350 non-null    int64  \n",
            " 1   Gender                    350 non-null    object \n",
            " 2   Age                       350 non-null    int64  \n",
            " 3   City                      350 non-null    object \n",
            " 4   Membership Type           350 non-null    object \n",
            " 5   Total Spend               350 non-null    float64\n",
            " 6   Items Purchased           350 non-null    int64  \n",
            " 7   Average Rating            350 non-null    float64\n",
            " 8   Discount Applied          350 non-null    bool   \n",
            " 9   Days Since Last Purchase  350 non-null    int64  \n",
            " 10  Satisfaction Level        348 non-null    object \n",
            "dtypes: bool(1), float64(2), int64(4), object(4)\n",
            "memory usage: 27.8+ KB\n"
          ]
        }
      ]
    },
    {
      "cell_type": "code",
      "source": [
        "# Display only data types\n",
        "data_types = df.dtypes\n",
        "\n",
        "(first_10_rows, summary_objects, shape, data_types)"
      ],
      "metadata": {
        "id": "gw7WLN2UYEdE",
        "outputId": "759d0ee8-ba66-491c-bc42-c4f9e787dfc5",
        "colab": {
          "base_uri": "https://localhost:8080/"
        }
      },
      "execution_count": null,
      "outputs": [
        {
          "output_type": "execute_result",
          "data": {
            "text/plain": [
              "(   Customer ID  Gender  Age           City Membership Type  Total Spend  \\\n",
              " 0          101  Female   29       New York            Gold      1120.20   \n",
              " 1          102    Male   34    Los Angeles          Silver       780.50   \n",
              " 2          103  Female   43        Chicago          Bronze       510.75   \n",
              " 3          104    Male   30  San Francisco            Gold      1480.30   \n",
              " 4          105    Male   27          Miami          Silver       720.40   \n",
              " 5          106  Female   37        Houston          Bronze       440.80   \n",
              " 6          107  Female   31       New York            Gold      1150.60   \n",
              " 7          108    Male   35    Los Angeles          Silver       800.90   \n",
              " 8          109  Female   41        Chicago          Bronze       495.25   \n",
              " 9          110    Male   28  San Francisco            Gold      1520.10   \n",
              " \n",
              "    Items Purchased  Average Rating  Discount Applied  \\\n",
              " 0               14             4.6              True   \n",
              " 1               11             4.1             False   \n",
              " 2                9             3.4              True   \n",
              " 3               19             4.7             False   \n",
              " 4               13             4.0              True   \n",
              " 5                8             3.1             False   \n",
              " 6               15             4.5              True   \n",
              " 7               12             4.2             False   \n",
              " 8               10             3.6              True   \n",
              " 9               21             4.8             False   \n",
              " \n",
              "    Days Since Last Purchase Satisfaction Level  \n",
              " 0                        25          Satisfied  \n",
              " 1                        18            Neutral  \n",
              " 2                        42        Unsatisfied  \n",
              " 3                        12          Satisfied  \n",
              " 4                        55        Unsatisfied  \n",
              " 5                        22            Neutral  \n",
              " 6                        28          Satisfied  \n",
              " 7                        14            Neutral  \n",
              " 8                        40        Unsatisfied  \n",
              " 9                         9          Satisfied  ,\n",
              "         Gender      City Membership Type Satisfaction Level\n",
              " count      350       350             350                348\n",
              " unique       2         6               3                  3\n",
              " top     Female  New York            Gold          Satisfied\n",
              " freq       175        59             117                125,\n",
              " (350, 11),\n",
              " Customer ID                   int64\n",
              " Gender                       object\n",
              " Age                           int64\n",
              " City                         object\n",
              " Membership Type              object\n",
              " Total Spend                 float64\n",
              " Items Purchased               int64\n",
              " Average Rating              float64\n",
              " Discount Applied               bool\n",
              " Days Since Last Purchase      int64\n",
              " Satisfaction Level           object\n",
              " dtype: object)"
            ]
          },
          "metadata": {},
          "execution_count": 11
        }
      ]
    },
    {
      "cell_type": "markdown",
      "source": [
        "### **Handling Missing Values**\n",
        "Identify and deal with any missing data.\n",
        "\n",
        "- Check for missing values in the dataset.\n",
        "- If missing values exist, Show the rows with missing values.\n",
        "- If missing values exist, Decide whether to fill them (using the mean, median, etc.) or drop them and justify your choice.\n",
        "\n",
        "\n",
        "(3 Points)"
      ],
      "metadata": {
        "id": "xWc9VhTpNzjg"
      }
    },
    {
      "cell_type": "code",
      "source": [
        "# Check for missing values in the dataset\n",
        "missing_values = df.isnull().sum()"
      ],
      "metadata": {
        "id": "Mai5aWWNmvF4"
      },
      "execution_count": null,
      "outputs": []
    },
    {
      "cell_type": "code",
      "source": [
        "# Show the rows with missing values\n",
        "rows_with_missing_values = df[df.isnull().any(axis=1)]"
      ],
      "metadata": {
        "id": "gs6wHwz-mu97"
      },
      "execution_count": null,
      "outputs": []
    },
    {
      "cell_type": "markdown",
      "source": [],
      "metadata": {
        "id": "2lPOL8HmZShr"
      }
    },
    {
      "cell_type": "code",
      "source": [
        "# Get summary statistics for the 'Satisfaction Level' column to help decide\n",
        "satisfaction_summary = df['Satisfaction Level'].describe()\n",
        "\n",
        "(missing_values, rows_with_missing_values, satisfaction_summary)"
      ],
      "metadata": {
        "id": "vGjA3jpAZb-c",
        "outputId": "f13bd516-603b-4167-9f60-3640d12c93df",
        "colab": {
          "base_uri": "https://localhost:8080/"
        }
      },
      "execution_count": null,
      "outputs": [
        {
          "output_type": "execute_result",
          "data": {
            "text/plain": [
              "(Customer ID                 0\n",
              " Gender                      0\n",
              " Age                         0\n",
              " City                        0\n",
              " Membership Type             0\n",
              " Total Spend                 0\n",
              " Items Purchased             0\n",
              " Average Rating              0\n",
              " Discount Applied            0\n",
              " Days Since Last Purchase    0\n",
              " Satisfaction Level          2\n",
              " dtype: int64,\n",
              "      Customer ID  Gender  Age     City Membership Type  Total Spend  \\\n",
              " 71           172  Female   37  Houston          Bronze        420.8   \n",
              " 143          244  Female   37  Houston          Bronze        430.8   \n",
              " \n",
              "      Items Purchased  Average Rating  Discount Applied  \\\n",
              " 71                 7             3.1             False   \n",
              " 143                7             3.4             False   \n",
              " \n",
              "      Days Since Last Purchase Satisfaction Level  \n",
              " 71                         21                NaN  \n",
              " 143                        23                NaN  ,\n",
              " count           348\n",
              " unique            3\n",
              " top       Satisfied\n",
              " freq            125\n",
              " Name: Satisfaction Level, dtype: object)"
            ]
          },
          "metadata": {},
          "execution_count": 18
        }
      ]
    },
    {
      "cell_type": "code",
      "source": [
        "#Since Satisfaction Level is a categorical variable and the number of missing values is very small (2 out of 350), it would be more appropriate to fill the missing values rather than drop the rows\n",
        "# Fill missing values in the 'Satisfaction Level' column with the most frequent value 'Satisfied'\n",
        "df['Satisfaction Level'].fillna('Satisfied', inplace=True)\n",
        "\n",
        "# Verify if missing values have been filled\n",
        "missing_values_after = df.isnull().sum()\n",
        "\n",
        "missing_values_after\n"
      ],
      "metadata": {
        "id": "FgdqFxU5Zfok",
        "outputId": "57e65014-31be-4432-8f37-952c79d19723",
        "colab": {
          "base_uri": "https://localhost:8080/",
          "height": 571
        }
      },
      "execution_count": null,
      "outputs": [
        {
          "output_type": "stream",
          "name": "stderr",
          "text": [
            "<ipython-input-19-e30ea90a110b>:3: FutureWarning: A value is trying to be set on a copy of a DataFrame or Series through chained assignment using an inplace method.\n",
            "The behavior will change in pandas 3.0. This inplace method will never work because the intermediate object on which we are setting values always behaves as a copy.\n",
            "\n",
            "For example, when doing 'df[col].method(value, inplace=True)', try using 'df.method({col: value}, inplace=True)' or df[col] = df[col].method(value) instead, to perform the operation inplace on the original object.\n",
            "\n",
            "\n",
            "  df['Satisfaction Level'].fillna('Satisfied', inplace=True)\n"
          ]
        },
        {
          "output_type": "execute_result",
          "data": {
            "text/plain": [
              "Customer ID                 0\n",
              "Gender                      0\n",
              "Age                         0\n",
              "City                        0\n",
              "Membership Type             0\n",
              "Total Spend                 0\n",
              "Items Purchased             0\n",
              "Average Rating              0\n",
              "Discount Applied            0\n",
              "Days Since Last Purchase    0\n",
              "Satisfaction Level          0\n",
              "dtype: int64"
            ],
            "text/html": [
              "<div>\n",
              "<style scoped>\n",
              "    .dataframe tbody tr th:only-of-type {\n",
              "        vertical-align: middle;\n",
              "    }\n",
              "\n",
              "    .dataframe tbody tr th {\n",
              "        vertical-align: top;\n",
              "    }\n",
              "\n",
              "    .dataframe thead th {\n",
              "        text-align: right;\n",
              "    }\n",
              "</style>\n",
              "<table border=\"1\" class=\"dataframe\">\n",
              "  <thead>\n",
              "    <tr style=\"text-align: right;\">\n",
              "      <th></th>\n",
              "      <th>0</th>\n",
              "    </tr>\n",
              "  </thead>\n",
              "  <tbody>\n",
              "    <tr>\n",
              "      <th>Customer ID</th>\n",
              "      <td>0</td>\n",
              "    </tr>\n",
              "    <tr>\n",
              "      <th>Gender</th>\n",
              "      <td>0</td>\n",
              "    </tr>\n",
              "    <tr>\n",
              "      <th>Age</th>\n",
              "      <td>0</td>\n",
              "    </tr>\n",
              "    <tr>\n",
              "      <th>City</th>\n",
              "      <td>0</td>\n",
              "    </tr>\n",
              "    <tr>\n",
              "      <th>Membership Type</th>\n",
              "      <td>0</td>\n",
              "    </tr>\n",
              "    <tr>\n",
              "      <th>Total Spend</th>\n",
              "      <td>0</td>\n",
              "    </tr>\n",
              "    <tr>\n",
              "      <th>Items Purchased</th>\n",
              "      <td>0</td>\n",
              "    </tr>\n",
              "    <tr>\n",
              "      <th>Average Rating</th>\n",
              "      <td>0</td>\n",
              "    </tr>\n",
              "    <tr>\n",
              "      <th>Discount Applied</th>\n",
              "      <td>0</td>\n",
              "    </tr>\n",
              "    <tr>\n",
              "      <th>Days Since Last Purchase</th>\n",
              "      <td>0</td>\n",
              "    </tr>\n",
              "    <tr>\n",
              "      <th>Satisfaction Level</th>\n",
              "      <td>0</td>\n",
              "    </tr>\n",
              "  </tbody>\n",
              "</table>\n",
              "</div><br><label><b>dtype:</b> int64</label>"
            ]
          },
          "metadata": {},
          "execution_count": 19
        }
      ]
    },
    {
      "cell_type": "markdown",
      "source": [
        "### **Duplicates**\n",
        "\n",
        "- Check for duplicate records in the dataset. If duplicates exist, remove them.\n",
        "\n",
        "(1 Point)"
      ],
      "metadata": {
        "id": "q6RS80jxQm64"
      }
    },
    {
      "cell_type": "code",
      "source": [
        "# Check for duplicate records in the dataset\n",
        "duplicate_records = df.duplicated()\n",
        "\n",
        "# Count of duplicate records\n",
        "duplicate_count = duplicate_records.sum()\n",
        "\n",
        "# Remove duplicates if any exist\n",
        "df_no_duplicates = df.drop_duplicates()\n",
        "\n",
        "(duplicate_count, df_no_duplicates.shape)\n"
      ],
      "metadata": {
        "id": "md2aGlB2mxRO",
        "outputId": "efb45c81-79f7-494b-bfe7-534807884a5f",
        "colab": {
          "base_uri": "https://localhost:8080/"
        }
      },
      "execution_count": null,
      "outputs": [
        {
          "output_type": "execute_result",
          "data": {
            "text/plain": [
              "(0, (350, 11))"
            ]
          },
          "metadata": {},
          "execution_count": 20
        }
      ]
    },
    {
      "cell_type": "markdown",
      "source": [
        "### **Conditional Filtering**\n",
        "Filter data based on specific conditions.\n",
        "\n",
        "- How many customers have the Gold membership type?\n",
        "- Filter and display customers who spent more than $1,000.\n",
        "- Identify customers from New York who applied a discount.\n",
        "\n",
        "( 3 points)"
      ],
      "metadata": {
        "id": "Q6O9vfyOTx28"
      }
    },
    {
      "cell_type": "code",
      "source": [
        "gold_members_count = df[df['Membership Type'] == 'Gold'].shape[0]\n",
        "print(gold_members_count)\n"
      ],
      "metadata": {
        "id": "8XzQVU7lmyUV",
        "outputId": "00591769-4aba-4940-ae64-695b910ab417",
        "colab": {
          "base_uri": "https://localhost:8080/"
        }
      },
      "execution_count": null,
      "outputs": [
        {
          "output_type": "stream",
          "name": "stdout",
          "text": [
            "117\n"
          ]
        }
      ]
    },
    {
      "cell_type": "code",
      "source": [
        "# Customers who spent more than $1,000\n",
        "customers_spent_above_1000 = df[df['Total Spend'] > 1000]\n",
        "print(\"\\nCustomers who spent more than $1,000:\")\n",
        "print(customers_spent_above_1000)"
      ],
      "metadata": {
        "id": "yWLC2WkamyMB",
        "outputId": "eb33d978-dc7c-447a-bebd-c258f4cb854b",
        "colab": {
          "base_uri": "https://localhost:8080/"
        }
      },
      "execution_count": null,
      "outputs": [
        {
          "output_type": "stream",
          "name": "stdout",
          "text": [
            "\n",
            "Customers who spent more than $1,000:\n",
            "     Customer ID  Gender  Age           City Membership Type  Total Spend  \\\n",
            "0            101  Female   29       New York            Gold       1120.2   \n",
            "3            104    Male   30  San Francisco            Gold       1480.3   \n",
            "6            107  Female   31       New York            Gold       1150.6   \n",
            "9            110    Male   28  San Francisco            Gold       1520.1   \n",
            "12           113  Female   30       New York            Gold       1200.8   \n",
            "..           ...     ...  ...            ...             ...          ...   \n",
            "335          436  Female   30       New York            Gold       1200.8   \n",
            "338          439    Male   30  San Francisco            Gold       1460.5   \n",
            "341          442  Female   31       New York            Gold       1140.6   \n",
            "344          445    Male   28  San Francisco            Gold       1480.1   \n",
            "347          448  Female   30       New York            Gold       1190.8   \n",
            "\n",
            "     Items Purchased  Average Rating  Discount Applied  \\\n",
            "0                 14             4.6              True   \n",
            "3                 19             4.7             False   \n",
            "6                 15             4.5              True   \n",
            "9                 21             4.8             False   \n",
            "12                16             4.3              True   \n",
            "..               ...             ...               ...   \n",
            "335               16             4.7              True   \n",
            "338               20             4.8             False   \n",
            "341               15             4.5              True   \n",
            "344               21             4.9             False   \n",
            "347               16             4.5              True   \n",
            "\n",
            "     Days Since Last Purchase Satisfaction Level  \n",
            "0                          25          Satisfied  \n",
            "3                          12          Satisfied  \n",
            "6                          28          Satisfied  \n",
            "9                           9          Satisfied  \n",
            "12                         21          Satisfied  \n",
            "..                        ...                ...  \n",
            "335                        28          Satisfied  \n",
            "338                        15          Satisfied  \n",
            "341                        36          Satisfied  \n",
            "344                        13          Satisfied  \n",
            "347                        28          Satisfied  \n",
            "\n",
            "[117 rows x 11 columns]\n"
          ]
        }
      ]
    },
    {
      "cell_type": "code",
      "source": [
        "# Customers from New York who applied a discount\n",
        "ny_discount_customers = df[(df['City'] == 'New York') & (df['Discount Applied'] == True)]\n",
        "\n",
        "(gold_members_count, customers_spent_above_1000, ny_discount_customers)\n",
        "\n",
        "print(\"\\nCustomers from New York who applied a discount:\")\n",
        "print(ny_discount_customers)"
      ],
      "metadata": {
        "id": "nXxFZ7oGmyGG",
        "outputId": "641d00ef-429a-4edd-af6e-a036dd3717ef",
        "colab": {
          "base_uri": "https://localhost:8080/"
        }
      },
      "execution_count": null,
      "outputs": [
        {
          "output_type": "stream",
          "name": "stdout",
          "text": [
            "\n",
            "Customers from New York who applied a discount:\n",
            "     Customer ID  Gender  Age      City Membership Type  Total Spend  \\\n",
            "0            101  Female   29  New York            Gold       1120.2   \n",
            "6            107  Female   31  New York            Gold       1150.6   \n",
            "12           113  Female   30  New York            Gold       1200.8   \n",
            "18           119  Female   32  New York            Gold       1170.3   \n",
            "24           125  Female   31  New York            Gold       1140.6   \n",
            "30           131  Female   30  New York            Gold       1190.8   \n",
            "36           137  Female   32  New York            Gold       1160.3   \n",
            "42           143  Female   31  New York            Gold       1130.6   \n",
            "48           149  Female   30  New York            Gold       1180.8   \n",
            "54           155  Female   31  New York            Gold       1140.6   \n",
            "60           161  Female   30  New York            Gold       1190.8   \n",
            "66           167  Female   32  New York            Gold       1160.3   \n",
            "72           173  Female   31  New York            Gold       1130.6   \n",
            "78           179  Female   30  New York            Gold       1180.8   \n",
            "84           185  Female   31  New York            Gold       1140.6   \n",
            "90           191  Female   30  New York            Gold       1190.8   \n",
            "96           197  Female   32  New York            Gold       1160.3   \n",
            "102          203  Female   31  New York            Gold       1130.6   \n",
            "108          209  Female   30  New York            Gold       1180.8   \n",
            "114          215  Female   31  New York            Gold       1140.6   \n",
            "120          221  Female   30  New York            Gold       1190.8   \n",
            "126          227  Female   32  New York            Gold       1160.3   \n",
            "132          233  Female   31  New York            Gold       1130.6   \n",
            "138          239  Female   30  New York            Gold       1180.8   \n",
            "144          245  Female   31  New York            Gold       1130.6   \n",
            "150          251  Female   30  New York            Gold       1180.8   \n",
            "156          257  Female   31  New York            Gold       1140.6   \n",
            "162          263  Female   30  New York            Gold       1190.8   \n",
            "168          269  Female   32  New York            Gold       1160.3   \n",
            "174          275  Female   31  New York            Gold       1140.6   \n",
            "180          281  Female   30  New York            Gold       1180.8   \n",
            "186          287  Female   31  New York            Gold       1130.6   \n",
            "192          293  Female   30  New York            Gold       1190.8   \n",
            "198          299  Female   32  New York            Gold       1160.3   \n",
            "203          304    Male   31  New York            Gold       1210.6   \n",
            "209          310  Female   32  New York            Gold       1170.3   \n",
            "215          316  Female   31  New York            Gold       1130.6   \n",
            "221          322  Female   30  New York            Gold       1180.8   \n",
            "227          328  Female   31  New York            Gold       1140.6   \n",
            "233          334  Female   30  New York            Gold       1190.8   \n",
            "239          340  Female   32  New York            Gold       1160.3   \n",
            "245          346  Female   31  New York            Gold       1150.6   \n",
            "251          352  Female   30  New York            Gold       1170.8   \n",
            "257          358  Female   31  New York            Gold       1160.6   \n",
            "263          364  Female   30  New York            Gold       1200.8   \n",
            "269          370  Female   31  New York            Gold       1140.6   \n",
            "275          376  Female   30  New York            Gold       1190.8   \n",
            "281          382  Female   31  New York            Gold       1160.6   \n",
            "287          388  Female   30  New York            Gold       1200.8   \n",
            "293          394  Female   31  New York            Gold       1140.6   \n",
            "299          400  Female   30  New York            Gold       1190.8   \n",
            "305          406  Female   31  New York            Gold       1160.6   \n",
            "311          412  Female   30  New York            Gold       1200.8   \n",
            "317          418  Female   31  New York            Gold       1140.6   \n",
            "323          424  Female   30  New York            Gold       1190.8   \n",
            "329          430  Female   31  New York            Gold       1160.6   \n",
            "335          436  Female   30  New York            Gold       1200.8   \n",
            "341          442  Female   31  New York            Gold       1140.6   \n",
            "347          448  Female   30  New York            Gold       1190.8   \n",
            "\n",
            "     Items Purchased  Average Rating  Discount Applied  \\\n",
            "0                 14             4.6              True   \n",
            "6                 15             4.5              True   \n",
            "12                16             4.3              True   \n",
            "18                14             4.7              True   \n",
            "24                15             4.6              True   \n",
            "30                16             4.5              True   \n",
            "36                14             4.4              True   \n",
            "42                15             4.5              True   \n",
            "48                16             4.7              True   \n",
            "54                15             4.6              True   \n",
            "60                16             4.5              True   \n",
            "66                14             4.4              True   \n",
            "72                15             4.5              True   \n",
            "78                16             4.7              True   \n",
            "84                15             4.6              True   \n",
            "90                16             4.5              True   \n",
            "96                14             4.4              True   \n",
            "102               15             4.5              True   \n",
            "108               16             4.7              True   \n",
            "114               15             4.6              True   \n",
            "120               16             4.5              True   \n",
            "126               14             4.4              True   \n",
            "132               15             4.5              True   \n",
            "138               16             4.7              True   \n",
            "144               15             4.5              True   \n",
            "150               16             4.7              True   \n",
            "156               15             4.6              True   \n",
            "162               16             4.5              True   \n",
            "168               14             4.4              True   \n",
            "174               15             4.5              True   \n",
            "180               16             4.7              True   \n",
            "186               15             4.5              True   \n",
            "192               16             4.5              True   \n",
            "198               14             4.4              True   \n",
            "203               17             4.8              True   \n",
            "209               14             4.5              True   \n",
            "215               15             4.5              True   \n",
            "221               16             4.7              True   \n",
            "227               15             4.5              True   \n",
            "233               16             4.5              True   \n",
            "239               14             4.4              True   \n",
            "245               15             4.5              True   \n",
            "251               16             4.7              True   \n",
            "257               15             4.5              True   \n",
            "263               16             4.7              True   \n",
            "269               15             4.5              True   \n",
            "275               16             4.5              True   \n",
            "281               15             4.5              True   \n",
            "287               16             4.7              True   \n",
            "293               15             4.5              True   \n",
            "299               16             4.5              True   \n",
            "305               15             4.5              True   \n",
            "311               16             4.7              True   \n",
            "317               15             4.5              True   \n",
            "323               16             4.5              True   \n",
            "329               15             4.5              True   \n",
            "335               16             4.7              True   \n",
            "341               15             4.5              True   \n",
            "347               16             4.5              True   \n",
            "\n",
            "     Days Since Last Purchase Satisfaction Level  \n",
            "0                          25          Satisfied  \n",
            "6                          28          Satisfied  \n",
            "12                         21          Satisfied  \n",
            "18                         29          Satisfied  \n",
            "24                         27          Satisfied  \n",
            "30                         20          Satisfied  \n",
            "36                         22          Satisfied  \n",
            "42                         26          Satisfied  \n",
            "48                         19          Satisfied  \n",
            "54                         27          Satisfied  \n",
            "60                         20          Satisfied  \n",
            "66                         22          Satisfied  \n",
            "72                         26          Satisfied  \n",
            "78                         19          Satisfied  \n",
            "84                         27          Satisfied  \n",
            "90                         20          Satisfied  \n",
            "96                         22          Satisfied  \n",
            "102                        26          Satisfied  \n",
            "108                        19          Satisfied  \n",
            "114                        27          Satisfied  \n",
            "120                        20          Satisfied  \n",
            "126                        22          Satisfied  \n",
            "132                        26          Satisfied  \n",
            "138                        19          Satisfied  \n",
            "144                        26          Satisfied  \n",
            "150                        19          Satisfied  \n",
            "156                        27          Satisfied  \n",
            "162                        20          Satisfied  \n",
            "168                        22          Satisfied  \n",
            "174                        27          Satisfied  \n",
            "180                        19          Satisfied  \n",
            "186                        26          Satisfied  \n",
            "192                        20          Satisfied  \n",
            "198                        22          Satisfied  \n",
            "203                        18          Satisfied  \n",
            "209                        21          Satisfied  \n",
            "215                        26          Satisfied  \n",
            "221                        19          Satisfied  \n",
            "227                        27          Satisfied  \n",
            "233                        20          Satisfied  \n",
            "239                        22          Satisfied  \n",
            "245                        28          Satisfied  \n",
            "251                        21          Satisfied  \n",
            "257                        29          Satisfied  \n",
            "263                        22          Satisfied  \n",
            "269                        30          Satisfied  \n",
            "275                        23          Satisfied  \n",
            "281                        31          Satisfied  \n",
            "287                        24          Satisfied  \n",
            "293                        32          Satisfied  \n",
            "299                        25          Satisfied  \n",
            "305                        33          Satisfied  \n",
            "311                        25          Satisfied  \n",
            "317                        34          Satisfied  \n",
            "323                        27          Satisfied  \n",
            "329                        35          Satisfied  \n",
            "335                        28          Satisfied  \n",
            "341                        36          Satisfied  \n",
            "347                        28          Satisfied  \n"
          ]
        }
      ]
    },
    {
      "cell_type": "markdown",
      "source": [
        "### **Analysis**\n",
        "\n",
        "\n",
        " ( Hint: Group by, conditional filtering, Visualization )"
      ],
      "metadata": {
        "id": "DrhGPTmuhux0"
      }
    },
    {
      "cell_type": "markdown",
      "source": [
        "##### Which membership type shows the highest total spending in the dataset?  (2 Points)"
      ],
      "metadata": {
        "id": "sveHItR8fzCF"
      }
    },
    {
      "cell_type": "code",
      "source": [
        "# Group by Membership Type and calculate the total spending for each type\n",
        "total_spending_by_membership = df.groupby('Membership Type')['Total Spend'].sum()\n",
        "\n",
        "# Print the total spending by membership type\n",
        "print(\"Total spending by membership type:\")\n",
        "print(total_spending_by_membership)"
      ],
      "metadata": {
        "id": "pAVygGE0m7S8",
        "outputId": "9053e5d9-cf58-42fd-e6d1-715c3be700b9",
        "colab": {
          "base_uri": "https://localhost:8080/"
        }
      },
      "execution_count": null,
      "outputs": [
        {
          "output_type": "stream",
          "name": "stdout",
          "text": [
            "Total spending by membership type:\n",
            "Membership Type\n",
            "Bronze     54913.1\n",
            "Gold      153403.9\n",
            "Silver     87566.6\n",
            "Name: Total Spend, dtype: float64\n"
          ]
        }
      ]
    },
    {
      "cell_type": "code",
      "source": [
        "# Identify the membership type with the highest total spending\n",
        "highest_spending_membership = total_spending_by_membership.idxmax()\n",
        "highest_spending_value = total_spending_by_membership.max()\n",
        "\n",
        "(total_spending_by_membership, highest_spending_membership, highest_spending_value)\n",
        "\n",
        "# Print the membership type with the highest total spending\n",
        "print(f\"\\nMembership type with the highest total spending: {highest_spending_membership}\")\n",
        "print(f\"Total spending for {highest_spending_membership} membership: ${highest_spending_value}\")"
      ],
      "metadata": {
        "id": "eyZIiC68m0ys",
        "outputId": "34c7143e-3a7d-4f2f-88ba-44ba4bc606e9",
        "colab": {
          "base_uri": "https://localhost:8080/"
        }
      },
      "execution_count": null,
      "outputs": [
        {
          "output_type": "stream",
          "name": "stdout",
          "text": [
            "\n",
            "Membership type with the highest total spending: Gold\n",
            "Total spending for Gold membership: $153403.9\n"
          ]
        }
      ]
    },
    {
      "cell_type": "markdown",
      "source": [
        "#### How does customer satisfaction impact total spending across different membership types? Which membership type spends more based on satisfaction levels? (2 Points)"
      ],
      "metadata": {
        "id": "XnUuk59JhepC"
      }
    },
    {
      "cell_type": "code",
      "source": [
        "# Group by Membership Type and Satisfaction Level, then calculate the total spending\n",
        "spending_by_membership_and_satisfaction = df.groupby(['Membership Type', 'Satisfaction Level'])['Total Spend'].sum()\n",
        "# Print total spending by membership type and satisfaction level\n",
        "print(\"Total spending by membership type and satisfaction level:\")\n",
        "print(spending_by_membership_and_satisfaction)\n"
      ],
      "metadata": {
        "id": "pXms3wNnm6xa",
        "outputId": "df9b4aa7-931b-4d7e-e432-20e8c3d49746",
        "colab": {
          "base_uri": "https://localhost:8080/"
        }
      },
      "execution_count": null,
      "outputs": [
        {
          "output_type": "stream",
          "name": "stdout",
          "text": [
            "Total spending by membership type and satisfaction level:\n",
            "Membership Type  Satisfaction Level\n",
            "Bronze           Neutral                25068.3\n",
            "                 Satisfied                851.6\n",
            "                 Unsatisfied            28993.2\n",
            "Gold             Satisfied             153403.9\n",
            "Silver           Neutral                40888.0\n",
            "                 Satisfied               6636.0\n",
            "                 Unsatisfied            40042.6\n",
            "Name: Total Spend, dtype: float64\n"
          ]
        }
      ]
    },
    {
      "cell_type": "code",
      "source": [
        "# Find which membership type spends more based on satisfaction levels\n",
        "highest_spending_by_satisfaction = spending_by_membership_and_satisfaction.groupby(level=0).idxmax()\n",
        "highest_spending_values = spending_by_membership_and_satisfaction.groupby(level=0).max()\n",
        "\n",
        "(spending_by_membership_and_satisfaction, highest_spending_by_satisfaction, highest_spending_values)"
      ],
      "metadata": {
        "id": "L7KPBxo0nEoP",
        "outputId": "1971545a-ad54-4204-d11f-e9a2fed732ef",
        "colab": {
          "base_uri": "https://localhost:8080/"
        }
      },
      "execution_count": null,
      "outputs": [
        {
          "output_type": "execute_result",
          "data": {
            "text/plain": [
              "(Membership Type  Satisfaction Level\n",
              " Bronze           Neutral                25068.3\n",
              "                  Satisfied                851.6\n",
              "                  Unsatisfied            28993.2\n",
              " Gold             Satisfied             153403.9\n",
              " Silver           Neutral                40888.0\n",
              "                  Satisfied               6636.0\n",
              "                  Unsatisfied            40042.6\n",
              " Name: Total Spend, dtype: float64,\n",
              " Membership Type\n",
              " Bronze    (Bronze, Unsatisfied)\n",
              " Gold          (Gold, Satisfied)\n",
              " Silver        (Silver, Neutral)\n",
              " Name: Total Spend, dtype: object,\n",
              " Membership Type\n",
              " Bronze     28993.2\n",
              " Gold      153403.9\n",
              " Silver     40888.0\n",
              " Name: Total Spend, dtype: float64)"
            ]
          },
          "metadata": {},
          "execution_count": 33
        }
      ]
    },
    {
      "cell_type": "code",
      "source": [],
      "metadata": {
        "id": "ZyRmNvS0nEfv"
      },
      "execution_count": null,
      "outputs": []
    },
    {
      "cell_type": "markdown",
      "source": [
        "#### What is the average rating for customers who applied discounts, and does the membership type have any effect on the ratings? (2 points)"
      ],
      "metadata": {
        "id": "qGpwlmFFhlc2"
      }
    },
    {
      "cell_type": "code",
      "source": [
        "# Calculate the average rating for customers who applied discounts\n",
        "avg_rating_with_discount = df[df['Discount Applied'] == True]['Average Rating'].mean()"
      ],
      "metadata": {
        "id": "m4oUR3ixnFvT"
      },
      "execution_count": null,
      "outputs": []
    },
    {
      "cell_type": "code",
      "source": [
        "# Group by Membership Type and Discount Applied, then calculate the average rating\n",
        "avg_rating_by_membership_and_discount = df.groupby(['Membership Type', 'Discount Applied'])['Average Rating'].mean()\n",
        "\n",
        "(avg_rating_with_discount, avg_rating_by_membership_and_discount)"
      ],
      "metadata": {
        "id": "vCIrlxdrnFnk",
        "outputId": "2008bae7-eb16-4281-d712-39386df76c33",
        "colab": {
          "base_uri": "https://localhost:8080/"
        }
      },
      "execution_count": null,
      "outputs": [
        {
          "output_type": "execute_result",
          "data": {
            "text/plain": [
              "(3.979428571428572,\n",
              " Membership Type  Discount Applied\n",
              " Bronze           False               3.193103\n",
              "                  True                3.456897\n",
              " Gold             False               4.808621\n",
              "                  True                4.544068\n",
              " Silver           False               4.172881\n",
              "                  True                3.927586\n",
              " Name: Average Rating, dtype: float64)"
            ]
          },
          "metadata": {},
          "execution_count": 35
        }
      ]
    },
    {
      "cell_type": "code",
      "source": [],
      "metadata": {
        "id": "POjXE3kZnFh9"
      },
      "execution_count": null,
      "outputs": []
    },
    {
      "cell_type": "markdown",
      "source": [],
      "metadata": {
        "id": "NfYqxWZ8nG3C"
      }
    },
    {
      "cell_type": "markdown",
      "source": [
        "#### Analyze the Impact of Days Since Last Purchase on Satisfaction Level (2 Points)"
      ],
      "metadata": {
        "id": "SDpolMEdlFwE"
      }
    },
    {
      "cell_type": "markdown",
      "source": [],
      "metadata": {
        "id": "BtEcrnVSnG6c"
      }
    },
    {
      "cell_type": "code",
      "source": [
        "# Group by Satisfaction Level and calculate the average Days Since Last Purchase\n",
        "days_since_last_purchase_satisfaction = df.groupby('Satisfaction Level')['Days Since Last Purchase'].mean()\n",
        "\n",
        "# Print the analysis\n",
        "print(\"Impact of Days Since Last Purchase on Satisfaction Level:\")\n",
        "print(days_since_last_purchase_satisfaction)\n",
        "\n",
        "# Visualize the impact with a bar chart\n",
        "import matplotlib.pyplot as plt\n",
        "\n",
        "plt.figure(figsize=(8, 6))\n",
        "days_since_last_purchase_satisfaction.plot(kind='bar', color='skyblue')\n",
        "plt.title(\"Average Days Since Last Purchase by Satisfaction Level\")\n",
        "plt.xlabel(\"Satisfaction Level\")\n",
        "plt.ylabel(\"Average Days Since Last Purchase\")\n",
        "plt.xticks(rotation=0)\n",
        "plt.show()\n"
      ],
      "metadata": {
        "id": "SkdKFTvold6L",
        "outputId": "b92492b9-a168-403d-9c15-1be5f4aa7eeb",
        "colab": {
          "base_uri": "https://localhost:8080/",
          "height": 668
        }
      },
      "execution_count": null,
      "outputs": [
        {
          "output_type": "stream",
          "name": "stdout",
          "text": [
            "Impact of Days Since Last Purchase on Satisfaction Level:\n",
            "Satisfaction Level\n",
            "Neutral        19.289720\n",
            "Satisfied      17.763780\n",
            "Unsatisfied    42.982759\n",
            "Name: Days Since Last Purchase, dtype: float64\n"
          ]
        },
        {
          "output_type": "display_data",
          "data": {
            "text/plain": [
              "<Figure size 800x600 with 1 Axes>"
            ],
            "image/png": "[encoded data removed]"
          },
          "metadata": {}
        }
      ]
    }
  ]
}